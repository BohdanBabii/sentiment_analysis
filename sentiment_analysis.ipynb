{
 "cells": [
  {
   "cell_type": "markdown",
   "id": "2a96db9c",
   "metadata": {},
   "source": [
    "## Dataset Description\n",
    "- `data.csv`: Contains tweets with labels for training.\n",
    "- `data_validation.csv`: Used to evaluate the model with unseen data."
   ]
  },
  {
   "cell_type": "markdown",
   "id": "c6f61999",
   "metadata": {},
   "source": [
    "# Sentiment Analysis Project\n",
    "\n",
    "## Introduction and Problem Statement\n",
    "Sentiment analysis is a key area in machine learning that focuses on analyzing emotions expressed in text. It has significant applications in determining public opinion, customer feedback, and social media analysis\n",
    "### Submission\n",
    "- Deadline of submission:\n",
    "19.08.2024 23:59"
   ]
  },
  {
   "cell_type": "code",
   "execution_count": 73,
   "id": "c43008e3",
   "metadata": {},
   "outputs": [],
   "source": [
    "import pandas as pd\n",
    "import numpy as np\n",
    "import re\n",
    "import string\n",
    "import matplotlib.pyplot as plt\n",
    "import nltk\n",
    "import numpy.typing as npt\n",
    "import time\n",
    "from typing import Self\n",
    "from nltk.corpus import stopwords\n",
    "from nltk.stem import WordNetLemmatizer\n",
    "from nltk.tokenize import word_tokenize\n",
    "from scipy.sparse import csr_matrix\n",
    "from sklearn.feature_extraction.text import TfidfVectorizer\n",
    "from sklearn.feature_extraction.text import CountVectorizer\n",
    "from sklearn.svm import LinearSVC\n",
    "from sklearn.linear_model import SGDClassifier\n",
    "from sklearn.model_selection import train_test_split\n",
    "from sklearn.linear_model import LogisticRegression\n",
    "from sklearn.metrics import accuracy_score, recall_score, precision_score, f1_score, confusion_matrix"
   ]
  },
  {
   "cell_type": "code",
   "execution_count": 74,
   "id": "c1c48bab",
   "metadata": {},
   "outputs": [],
   "source": [
    "DATA_SIZE_LOG_REG = 50_000\n",
    "DATA_SIZE_NAV_BAY = 50_000\n",
    "DATA_SIZE_SVM = 50_000\n",
    "DATA_SPLIT_RATIO = 0.1\n",
    "MAX_FEATURES = 5_000\n",
    "LAPLACE_SMOOTHING_CONSTANT = 0.0002"
   ]
  },
  {
   "cell_type": "markdown",
   "id": "d01cec3f",
   "metadata": {},
   "source": [
    "## 1. Data Preprocessing"
   ]
  },
  {
   "cell_type": "markdown",
   "id": "a1623188",
   "metadata": {},
   "source": [
    "### 1.1 Clean Data\n",
    "Refine the tweet text by removing elements like URLs, mentions, hashtags, numbers, and special characters. Ensure the text is in lowercase to maintain uniformity."
   ]
  },
  {
   "cell_type": "code",
   "execution_count": 75,
   "id": "b201c1d1",
   "metadata": {},
   "outputs": [],
   "source": [
    "def clean_tweet(tweet):\n",
    "    tweet = re.sub(r'http\\S+', '', tweet, flags=re.MULTILINE)  # Remove URLs\n",
    "    tweet = re.sub(r'\\b@\\w+', '', tweet)  # Remove mentions\n",
    "    tweet = re.sub(r'#\\w+', '', tweet)  # Remove hashtags\n",
    "    tweet = re.sub(r'\\d+', '', tweet)  # Remove numbers\n",
    "    tweet = re.sub(r'\\W+', ' ', tweet)  # Remove special characters\n",
    "    tweet = re.sub(r'(.)\\1{2,}', r'\\1', tweet)   # Remove multiple occurences of the same character\n",
    "    tweet = tweet.lower()  # Convert to lowercase and strip whitespaces\n",
    "    return tweet\n"
   ]
  },
  {
   "cell_type": "markdown",
   "id": "7a36969f",
   "metadata": {},
   "source": [
    "### 1.2 Evaluate Model\n",
    "Assess the sentiment analysis model’s performance using metrics like accuracy, recall, precision, F1 score, and a confusion matrix."
   ]
  },
  {
   "cell_type": "code",
   "execution_count": 76,
   "id": "46122d5b",
   "metadata": {},
   "outputs": [],
   "source": [
    "results = []\n",
    "def evaluate_model(model_name, model_size, y_true, y_pred, time_meassured, pos_label=1):\n",
    "    accuracy = accuracy_score(y_true, y_pred)\n",
    "    recall = recall_score(y_true, y_pred, pos_label=pos_label)\n",
    "    precision = precision_score(y_true, y_pred, pos_label=pos_label)\n",
    "    f1 = f1_score(y_true, y_pred, pos_label=pos_label)\n",
    "    conf_matrix = confusion_matrix(y_true, y_pred)\n",
    "    \n",
    "    results.append({\n",
    "        'model': model_name,\n",
    "        'model_size' : model_size,\n",
    "        'accuracy': accuracy,\n",
    "        'recall': recall,\n",
    "        'precision': precision,\n",
    "        'f1_score': f1,\n",
    "        'confusion_matrix': conf_matrix,\n",
    "        'time_meassured' : time_meassured\n",
    "    })"
   ]
  },
  {
   "cell_type": "markdown",
   "id": "a1bc1e2e",
   "metadata": {},
   "source": [
    "## 2. Logistic Regression\n",
    "Logistic Regression is a statistical method used for binary classification. It models the probabilities of default classes based on input features using a logistic function. This section demonstrates how to prepare data, transform it into a numerical format suitable for the model, train the logistic regression classifier, and evaluate its performance on sentiment analysis tasks. The goal is to predict whether a tweet has a positive or negative sentiment accurately.\n",
    "### 2.1 Import Data\n",
    "\n",
    "Find a way to load the dataset and transform the features `X` (Tweets) and the labels `Y` (positive/negative)."
   ]
  },
  {
   "cell_type": "code",
   "execution_count": 77,
   "id": "6be6bcd9",
   "metadata": {},
   "outputs": [],
   "source": [
    "# TODO: load data, transform into numerical features + labels\n",
    "df = pd.read_csv('data.csv', names=['labels', 'tweets'], header=None, skiprows=1)\n",
    "# Select the first 10,000 data points\n",
    "df = df.head(DATA_SIZE_LOG_REG)\n",
    "\n",
    "# Extract features and labels\n",
    "X = df['tweets']\n",
    "y = df['labels']\n",
    "\n",
    "X = X.apply(clean_tweet)"
   ]
  },
  {
   "cell_type": "markdown",
   "id": "9761abe4",
   "metadata": {},
   "source": [
    "### 2.2 Prior $p(S)$\n",
    "Determine the prior probabilities for the categories 'positive' and 'negative' in the dataset using the maximum likelihood (ML) estimate. The ML estimate is calculated as the relative frequency of each category."
   ]
  },
  {
   "cell_type": "markdown",
   "id": "0b89f600",
   "metadata": {},
   "source": [
    "The prior distribution $p(S)$ is independent of the message $W$. We will use the maximum likelihood (ML) estimate for a categorical distribution, which is the relative frequency of the categories among the dataset.\n",
    "\\begin{align}\n",
    "p(S = \\text{positive})_{ML} &= \\cfrac{\\text{\\# tweets that are positive}}{\\text{\\# tweets}}\\\\\n",
    "p(S = \\text{negative})_{ML} &= 1 - p(S = \\text{negative})\n",
    "\\end{align}\n",
    "\n",
    "### 2.3 Estimate Distribution\n",
    "\n",
    "\n",
    "Estimate $p(S)$. Display the estimated distribution in a bar chart."
   ]
  },
  {
   "cell_type": "code",
   "execution_count": 78,
   "id": "cd57e97c",
   "metadata": {},
   "outputs": [
    {
     "data": {
      "image/png": "[encoded data removed]",
      "text/plain": [
       "<Figure size 640x480 with 1 Axes>"
      ]
     },
     "metadata": {},
     "output_type": "display_data"
    }
   ],
   "source": [
    "import matplotlib.pyplot as plt\n",
    "\n",
    "# TODO: estimate p(S), display in bar chart\n",
    "p_positve = np.mean(y)\n",
    "p_negative = 1 - p_positve\n",
    "\n",
    "\n",
    "# Creating the plot\n",
    "labels = ['Negative', 'Positive']\n",
    "values = [p_negative, p_positve]\n",
    "\n",
    "fig, ax = plt.subplots()\n",
    "bars = ax.bar(labels, values, color=['skyblue', 'salmon'])\n",
    "\n",
    "# Adding value labels on top of each bar\n",
    "for bar in bars:\n",
    "    yval = bar.get_height()\n",
    "    ax.text(bar.get_x() + bar.get_width()/2, yval, round(yval, 4), ha='center', va='bottom')\n",
    "\n",
    "# Adding titles and labels\n",
    "ax.set_ylabel('Probability')\n",
    "ax.set_title('Probability of Ham and Spam')\n",
    "plt.ylim(0, 1)  # Set y-axis limits to show probabilities clearly from 0 to 1\n",
    "plt.show()"
   ]
  },
  {
   "cell_type": "markdown",
   "id": "3e87618d",
   "metadata": {},
   "source": [
    "### 2.4 Transform Data\n",
    "Find a way to transform the features `X` (tweets) and the labels `Y` (positive/negative) into numerical representations for logistic regression."
   ]
  },
  {
   "cell_type": "code",
   "execution_count": 79,
   "id": "55153577",
   "metadata": {},
   "outputs": [],
   "source": [
    "vectorizer_log_reg = TfidfVectorizer(ngram_range=(1, 5), min_df = 3)\n",
    "x = vectorizer_log_reg.fit_transform(X)\n",
    "x_sparse = csr_matrix(x)"
   ]
  },
  {
   "cell_type": "markdown",
   "id": "48bf3f63",
   "metadata": {},
   "source": [
    "### 2.5 Split Data\n",
    "Divide the processed data into training and testing sets to ensure that the model can be trained and validated effectively."
   ]
  },
  {
   "cell_type": "code",
   "execution_count": 80,
   "id": "b72e33ed",
   "metadata": {},
   "outputs": [],
   "source": [
    "X_train, X_test, y_train, y_test = train_test_split(x_sparse, y, test_size=DATA_SPLIT_RATIO, random_state=42)"
   ]
  },
  {
   "cell_type": "markdown",
   "id": "5ccb0f4c",
   "metadata": {},
   "source": [
    "### 2.6 Train and Evaluate Model\n",
    "Train a logistic regression model on the training data and evaluate its performance on the testing set using predefined metrics."
   ]
  },
  {
   "cell_type": "code",
   "execution_count": 81,
   "id": "8f3ea262",
   "metadata": {},
   "outputs": [],
   "source": [
    "model_log_reg = LogisticRegression(max_iter=1000)\n",
    "start_time = time.time()\n",
    "model_log_reg.fit(X_train, y_train)\n",
    "end_time = time.time()\n",
    "training_time = end_time - start_time\n",
    "\n",
    "y_pred = model_log_reg.predict(X_test)\n",
    "evaluate_model('Logistic Regression', DATA_SIZE_LOG_REG, y_test, y_pred, training_time)"
   ]
  },
  {
   "cell_type": "markdown",
   "id": "fc9fb0d4",
   "metadata": {},
   "source": [
    "## 3. Naive Bayes\n",
    "Naive Bayes is a simple yet powerful probabilistic classifier based on applying Bayes' theorem with strong independence assumptions between the features. It is particularly suited for large datasets and text classification tasks like sentiment analysis. In this section, we will prepare the data, transform it into a suitable numerical format, apply Naive Bayes to estimate the likelihoods of different classes, and evaluate the classifier’s performance. Our goal is to efficiently categorize tweets into positive or negative sentiments using the characteristics of Naive Bayes and assess its effectiveness in real-world scenarios.\n",
    "### 3.1 Import Data\n",
    "Prepare the dataset by loading it and processing the features (tweets) and labels (positive/negative) to make them suitable for Naive Bayes.\n"
   ]
  },
  {
   "cell_type": "code",
   "execution_count": 82,
   "id": "891e4e99",
   "metadata": {},
   "outputs": [],
   "source": [
    "# TODO: load data, transform into numerical features + labels\n",
    "df = pd.read_csv('data.csv', names=['labels', 'tweets'], header=None, skiprows=1)\n",
    "# Select the first 10,000 data points\n",
    "df = df.head(DATA_SIZE_NAV_BAY)\n",
    "\n",
    "# Extract features and labels\n",
    "X = df['tweets']\n",
    "y = df['labels']\n",
    "\n",
    "X = X.apply(clean_tweet)"
   ]
  },
  {
   "cell_type": "markdown",
   "id": "206b38a9",
   "metadata": {},
   "source": [
    "### 3.2 Transform Data\n",
    "Convert the cleaned tweet texts into a numerical format that is amenable to Naive Bayes classification.\n"
   ]
  },
  {
   "cell_type": "code",
   "execution_count": 83,
   "id": "ca90237a",
   "metadata": {},
   "outputs": [],
   "source": [
    "vectorizer_naive_bayes = CountVectorizer(max_features=MAX_FEATURES)\n",
    "x_sparse = vectorizer_naive_bayes.fit_transform(X).toarray()"
   ]
  },
  {
   "cell_type": "markdown",
   "id": "37442808",
   "metadata": {},
   "source": [
    "### 3.3 Likelihood p(W|S)\n",
    "\n",
    "The likelihood distribution models how likely a tweets is, given we know its either positive or negative.\n",
    "\n",
    "\\text{tweet}]$ we would expect something like \n",
    "\\begin{align}\n",
    "p(W|S=\\text{positive}) &= \\text{low}\\\\\n",
    "p(W|S=\\text{negative}) &= \\text{medium}\\\\\n",
    "\\end{align}\n",
    "\n",
    "However to estimate $p(W|S)$ we would need a dataset with the exact same $W$ appearing in both contexts: positive and negative. Since this is not the case for our dataset, this is the part where we make a naive assumption:\n",
    "\\begin{align}\n",
    "p(W|S) = \\prod_{w\\in W}p(w|S)\n",
    "\\end{align}\n",
    "That is, we consider each word in the tweet independend of the others. This simplification enables us to estimate the likelihood, since single words to in fact appear in both contexts.\n",
    "\n",
    "For a single word $w$, we can again estimate the probability as relative frequency \n",
    "\\begin{align}\n",
    "p(w|S = \\text{positive})_{ML} &= \\cfrac{\\text{\\# word $w$ is labeled posotive}}{\\text{\\# any word is labeled positive}}\\\\\n",
    "p(w|S = \\text{negative})_{ML} &= \\cfrac{\\text{\\# word $w$ is labeled negative}}{\\text{\\# any word is labeled negative}}\\\\\n",
    "\\end{align}\n",
    "\n",
    "Since we cannot expect every word to have appeared in a positive and negative tweet, we will smooth our dataset with a [Laplace smoothing](https://en.wikipedia.org/wiki/Additive_smoothing) of $\\varepsilon = 0.001$. \n",
    "\n",
    "This is done by adding $\\varepsilon$ to the count of every word in every SMS.\n",
    "\n",
    "As an example the count vector for a SMS over a vocabulary of 5 words is transformed from\n",
    "\\begin{align}\n",
    "[1, 2, 0, 0, 1]\n",
    "\\end{align}\n",
    "into\n",
    "\\begin{align}\n",
    "[1.001, 2.001, 0.001, 0.001, 1.001]\\,.\n",
    "\\end{align}\n",
    "\n",
    "This way we do not have zero probabilities in the product for calculating $p(W|S)$."
   ]
  },
  {
   "cell_type": "code",
   "execution_count": 84,
   "id": "e0ed1d10",
   "metadata": {},
   "outputs": [],
   "source": [
    "x_smooth = x_sparse + 0.001"
   ]
  },
  {
   "cell_type": "markdown",
   "id": "a1fb6378",
   "metadata": {},
   "source": [
    "### 3.4 NaiveBayesClassifier\n",
    "Define and initialize the Naive Bayes Classifier with methods for fitting to the data, predicting labels, and calculating accuracy."
   ]
  },
  {
   "cell_type": "code",
   "execution_count": 85,
   "id": "cf93e8f7",
   "metadata": {},
   "outputs": [],
   "source": [
    "class NaiveBayesClassifier():\n",
    "    def __init__(self, laplace_smoothing_constant: float = 0.0001):\n",
    "        \"\"\"Class for binary naive Bayes.\"\"\"\n",
    "\n",
    "        self.laplace_regularization_constant = laplace_smoothing_constant\n",
    "        # n_labels x n_words\n",
    "        self.log_p_word_given_label: npt.NDArray[np.float64] = None\n",
    "        # n_labels\n",
    "        self.log_p_label: npt.NDArray[np.float64] = None\n",
    "\n",
    "    def fit(self, x: npt.NDArray[np.float64], y: npt.NDArray[np.bool_]) -> Self:\n",
    "        \"\"\"Given a dataset of count vectors, calculates probabilities needed for prediction.\n",
    "\n",
    "        Parameters\n",
    "        ----------\n",
    "        x : npt.NDArray[np.float64]\n",
    "            Word count matrix (n_sms x n_words).\n",
    "        y : npt.NDArray[np.bool_]\n",
    "            Label matrix (n_sms).\n",
    "        \"\"\"\n",
    "        \n",
    "        # TODO: implement\n",
    "        self.log_p_label= [np.log(np.sum(y)/ len(y)), np.log(1-np.sum(y)/ len(y))]\n",
    "        x_smooth=x+self.laplace_regularization_constant\n",
    "        spam_words= x_smooth[y==1].sum(axis=0)\n",
    "        ham_words= x_smooth[y==0].sum(axis=0)\n",
    "        self.log_p_word_given_label= np.array([[np.log(spam_words[i]/np.sum(spam_words)) for i in range(x.shape[1])], \n",
    "                                      [np.log(ham_words[i]/np.sum(ham_words)) for i in range(x.shape[1])]])\n",
    "        return self\n",
    "\n",
    "    def predict(self, x):\n",
    "        \"\"\"Given a dataset of count vectors, predicts labels.\n",
    "\n",
    "        Parameters\n",
    "        ----------\n",
    "        x : csr_matrix of shape (n_samples, n_features)\n",
    "            The input data as a sparse matrix.\n",
    "\n",
    "        Returns\n",
    "        -------\n",
    "        predictions : np.ndarray of shape (n_samples,)\n",
    "            Vector of predictions for labels (0 = ham, 1 = spam).\n",
    "        \"\"\"\n",
    "\n",
    "        spam = []\n",
    "        ham = []\n",
    "\n",
    "        for i in range(x.shape[0]):\n",
    "            non_zero_indices = x[i].nonzero()[0]\n",
    "            spam_sum = np.sum(self.log_p_word_given_label[0, non_zero_indices]) + self.log_p_label[0]\n",
    "            ham_sum = np.sum(self.log_p_word_given_label[1, non_zero_indices]) + self.log_p_label[1]\n",
    "\n",
    "            spam.append(spam_sum)\n",
    "            ham.append(ham_sum)\n",
    "\n",
    "        return np.array(spam) >= np.array(ham)\n",
    "        \n",
    "\n",
    "    def accuracy(self, x: npt.NDArray[np.float64], y: npt.NDArray[np.bool_]) -> float:\n",
    "        \"\"\"Calculates accuracy for given dataset.\n",
    "\n",
    "        Parameters\n",
    "        ----------\n",
    "        x : npt.NDArray[np.float64]\n",
    "            Word count matrix (n_sms x n_words).\n",
    "        y : npt.NDArray[np.bool_]\n",
    "            Vector of true labels (0 = ham, 1 = spam).\n",
    "\n",
    "        Returns\n",
    "        -------\n",
    "        float\n",
    "            Percentage of correctly classified x.\n",
    "        \"\"\"\n",
    "\n",
    "        # TODO: implement\n",
    "        return np.sum(np.where(self.predict(x)==y, 1, 0))/len(y)\n"
   ]
  },
  {
   "cell_type": "code",
   "execution_count": 86,
   "id": "ecc388ba",
   "metadata": {},
   "outputs": [],
   "source": [
    "X_train, X_test, y_train, y_test = train_test_split(x_sparse, y, test_size=0.1, random_state=42)"
   ]
  },
  {
   "cell_type": "markdown",
   "id": "a8c3b0a3",
   "metadata": {},
   "source": [
    "### 3.5 Compute Model\n",
    "Train the Naive Bayes model and evaluate its performance on a held-out test set."
   ]
  },
  {
   "cell_type": "code",
   "execution_count": 87,
   "id": "653b6a56",
   "metadata": {},
   "outputs": [],
   "source": [
    "# Model training with Naive Bayes approach\n",
    "model_naive_bayes = NaiveBayesClassifier(laplace_smoothing_constant=LAPLACE_SMOOTHING_CONSTANT)\n",
    "start_time = time.time()\n",
    "model_naive_bayes.fit(X_train, y_train)\n",
    "end_time = time.time()\n",
    "training_time = end_time - start_time\n",
    "y_pred = model_naive_bayes.predict(X_test)\n",
    "evaluate_model('Naive Bayes', DATA_SIZE_NAV_BAY, y_test, y_pred, training_time)"
   ]
  },
  {
   "cell_type": "markdown",
   "id": "0379f2e2",
   "metadata": {},
   "source": [
    "## 4. SVM\n",
    "Support Vector Machines (SVM) are a robust set of supervised learning methods used for classification, regression, and outliers detection. Ideal for high-dimensional spaces, SVM is particularly effective where the number of dimensions exceeds the number of samples. This section will guide through the steps of loading and processing data, transforming it for SVM use, training an SVM model with a linear kernel, and evaluating its performance in classifying tweets into positive or negative sentiments.\n",
    "### 4.1 Import Data\n",
    "Load the dataset and preprocess it to extract clean, numerical features and labels suitable for SVM classification."
   ]
  },
  {
   "cell_type": "code",
   "execution_count": 88,
   "id": "7f367028",
   "metadata": {},
   "outputs": [],
   "source": [
    "# TODO: load data, transform into numerical features + labels\n",
    "df = pd.read_csv('data.csv', names=['labels', 'tweets'], header=None, skiprows=1)\n",
    "# Select the first 10,000 data points\n",
    "df = df.head(DATA_SIZE_SVM)\n",
    "\n",
    "# Extract features and labels\n",
    "X = df['tweets']\n",
    "y = df['labels']\n",
    "\n",
    "X = X.apply(clean_tweet)"
   ]
  },
  {
   "cell_type": "markdown",
   "id": "ad0241b1",
   "metadata": {},
   "source": [
    "### 4.2 Transform Data\n",
    "Apply CountVectorizer to convert text data into a sparse matrix of token counts, then split the data into training and testing sets.\n",
    "\n"
   ]
  },
  {
   "cell_type": "code",
   "execution_count": 89,
   "id": "dc55cf5f",
   "metadata": {},
   "outputs": [],
   "source": [
    "vectorizer_svm = CountVectorizer(max_features=MAX_FEATURES)\n",
    "x_sparse = vectorizer_svm.fit_transform(X).toarray()"
   ]
  },
  {
   "cell_type": "code",
   "execution_count": 90,
   "id": "f715aa90",
   "metadata": {},
   "outputs": [],
   "source": [
    "X_train, X_test, y_train, y_test = train_test_split(x_sparse, y, test_size=DATA_SPLIT_RATIO, random_state=42)"
   ]
  },
  {
   "cell_type": "markdown",
   "id": "aced5d50",
   "metadata": {},
   "source": [
    "### 4.3 Compute Model\n",
    "Train the SVM classifier using a linear kernel and evaluate its effectiveness in classifying tweet sentiments."
   ]
  },
  {
   "cell_type": "code",
   "execution_count": 91,
   "id": "94ea33ed",
   "metadata": {},
   "outputs": [
    {
     "name": "stderr",
     "output_type": "stream",
     "text": [
      "/usr/lib/python3/dist-packages/sklearn/svm/_base.py:1244: ConvergenceWarning: Liblinear failed to converge, increase the number of iterations.\n",
      "  warnings.warn(\n"
     ]
    }
   ],
   "source": [
    "model_svm = LinearSVC()\n",
    "start_time = time.time()\n",
    "model_svm.fit(X_train, y_train)\n",
    "end_time = time.time()\n",
    "training_time = end_time - start_time\n",
    "\n",
    "y_pred = model_svm.predict(X_test)\n",
    "evaluate_model('SVM', DATA_SIZE_SVM, y_test, y_pred, training_time)"
   ]
  },
  {
   "cell_type": "markdown",
   "id": "1af238f8",
   "metadata": {},
   "source": [
    "## 5. Evaluate Model\n",
    "In this final step of our analysis, we evaluate and compare the performance of our models: Logistic Regression, Naive Bayes, and SVM. We'll measure each model's accuracy, recall, precision, and F1 score, and display these metrics in both tabular and graphical formats. This comprehensive evaluation helps us understand the strengths and weaknesses of each approach in sentiment analysis.\n",
    "### 5.1 Performance Analysis\n",
    "Review and compare the performance of all trained models across multiple metrics to determine which model performs best for our sentiment analysis task."
   ]
  },
  {
   "cell_type": "code",
   "execution_count": 92,
   "id": "79bbaa1f",
   "metadata": {},
   "outputs": [
    {
     "name": "stdout",
     "output_type": "stream",
     "text": [
      "Model: Logistic Regression\n",
      "Size:  50000\n",
      "Accuracy: 0.7828\n",
      "Recall: 0.7837837837837838\n",
      "Precision: 0.7844073190135242\n",
      "F1 Score: 0.7840954274353875\n",
      "Confusion Matrix:\n",
      "[1942  542]\n",
      "[ 544 1972]\n",
      "Training Time: 0.4725804328918457\n",
      "----------------------------------------\n",
      "Model: Naive Bayes\n",
      "Size:  50000\n",
      "Accuracy: 0.7676\n",
      "Recall: 0.7416534181240063\n",
      "Precision: 0.7846930193439865\n",
      "F1 Score: 0.7625664078463424\n",
      "Confusion Matrix:\n",
      "[1972  512]\n",
      "[ 650 1866]\n",
      "Training Time: 3.3984155654907227\n",
      "----------------------------------------\n",
      "Model: SVM\n",
      "Size:  50000\n",
      "Accuracy: 0.76\n",
      "Recall: 0.7778219395866455\n",
      "Precision: 0.7532717474980755\n",
      "F1 Score: 0.7653500195541652\n",
      "Confusion Matrix:\n",
      "[1843  641]\n",
      "[ 559 1957]\n",
      "Training Time: 7.083224534988403\n",
      "----------------------------------------\n"
     ]
    }
   ],
   "source": [
    "for result in results:\n",
    "    print(f\"Model: {result['model']}\")\n",
    "    print(f\"Size:  {result['model_size']}\")\n",
    "    print(f\"Accuracy: {result['accuracy']}\")\n",
    "    print(f\"Recall: {result['recall']}\")\n",
    "    print(f\"Precision: {result['precision']}\")\n",
    "    print(f\"F1 Score: {result['f1_score']}\")\n",
    "    print(\"Confusion Matrix:\")\n",
    "    for row in result['confusion_matrix']:\n",
    "        print(row)\n",
    "    print(f\"Training Time: {result['time_meassured']}\")\n",
    "    print(\"-\" * 40)"
   ]
  },
  {
   "cell_type": "markdown",
   "id": "bcde724e",
   "metadata": {},
   "source": [
    "### 5.2 Visualize Results\n",
    "Create a visual comparison of the performance metrics for each model to facilitate a quick assessment of their effectiveness."
   ]
  },
  {
   "cell_type": "code",
   "execution_count": 93,
   "id": "edbf0c9c",
   "metadata": {},
   "outputs": [
    {
     "data": {
      "image/png": "[encoded data removed]",
      "text/plain": [
       "<Figure size 1400x1000 with 4 Axes>"
      ]
     },
     "metadata": {},
     "output_type": "display_data"
    }
   ],
   "source": [
    "def plot_metrics(results):\n",
    "    models = [result['model'] for result in results]\n",
    "    accuracies = [result['accuracy'] for result in results]\n",
    "    recalls = [result['recall'] for result in results]\n",
    "    precisions = [result['precision'] for result in results]\n",
    "    f1_scores = [result['f1_score'] for result in results]\n",
    "\n",
    "    fig, axs = plt.subplots(2, 2, figsize=(14, 10))\n",
    "\n",
    "    # Accuracy plot\n",
    "    axs[0, 0].bar(models, accuracies, color='skyblue')\n",
    "    axs[0, 0].set_title('Accuracy')\n",
    "    axs[0, 0].set_ylim([0, 1])\n",
    "    for i, v in enumerate(accuracies):\n",
    "        axs[0, 0].text(i, v + 0.02, f\"{v:.2f}\", ha='center')\n",
    "\n",
    "    # Recall plot\n",
    "    axs[0, 1].bar(models, recalls, color='lightgreen')\n",
    "    axs[0, 1].set_title('Recall')\n",
    "    axs[0, 1].set_ylim([0, 1])\n",
    "    for i, v in enumerate(recalls):\n",
    "        axs[0, 1].text(i, v + 0.02, f\"{v:.2f}\", ha='center')\n",
    "\n",
    "    # Precision plot\n",
    "    axs[1, 0].bar(models, precisions, color='salmon')\n",
    "    axs[1, 0].set_title('Precision')\n",
    "    axs[1, 0].set_ylim([0, 1])\n",
    "    for i, v in enumerate(precisions):\n",
    "        axs[1, 0].text(i, v + 0.02, f\"{v:.2f}\", ha='center')\n",
    "\n",
    "    # F1 Score plot\n",
    "    axs[1, 1].bar(models, f1_scores, color='lightcoral')\n",
    "    axs[1, 1].set_title('F1 Score')\n",
    "    axs[1, 1].set_ylim([0, 1])\n",
    "    for i, v in enumerate(f1_scores):\n",
    "        axs[1, 1].text(i, v + 0.02, f\"{v:.2f}\", ha='center')\n",
    "\n",
    "    for ax in axs.flat:\n",
    "        ax.set_xticks(range(len(models)))\n",
    "        ax.set_xticklabels(models)\n",
    "        ax.set_xlabel('Model')\n",
    "        ax.set_ylabel('Score')\n",
    "\n",
    "    plt.tight_layout()\n",
    "    plt.show()\n",
    "# Plot the metrics\n",
    "plot_metrics(results)"
   ]
  },
  {
   "cell_type": "markdown",
   "id": "83eefcef",
   "metadata": {},
   "source": [
    "### 5.3 Save the results data"
   ]
  },
  {
   "cell_type": "code",
   "execution_count": 94,
   "id": "b2f762d5",
   "metadata": {},
   "outputs": [],
   "source": [
    "\n",
    "def save_results(results, model_size):\n",
    "    # Convert the list of dictionaries to a DataFrame\n",
    "    df = pd.DataFrame(results)\n",
    "\n",
    "    # Generate the file name based on model_size\n",
    "    file_name = f'performance_result_{model_size}.csv'\n",
    "\n",
    "    # Save the DataFrame to a CSV file\n",
    "    df.to_csv(file_name, index=False)\n",
    "save_results(results, DATA_SIZE_LOG_REG)"
   ]
  },
  {
   "cell_type": "markdown",
   "id": "d69dc6a5",
   "metadata": {},
   "source": [
    "## 6. Valadation Data Set\n",
    "This section is dedicated to validating our trained models using a new, unseen dataset. Validation is crucial as it provides an unbiased evaluation of a model, reflecting its performance in real-world scenarios. We will import the validation data, preprocess it, transform it into the required format for our model, and finally predict labels to assess how well our model generalizes to new data."
   ]
  },
  {
   "cell_type": "markdown",
   "id": "ef8df37c",
   "metadata": {},
   "source": [
    "### 6.1 Import Training Data and Train Model\n",
    "Train the logistic regression model with all 500 000 tweets."
   ]
  },
  {
   "cell_type": "code",
   "execution_count": 95,
   "id": "12820257",
   "metadata": {},
   "outputs": [],
   "source": [
    "# TODO: load data, transform into numerical features + labels\n",
    "df = pd.read_csv('data.csv', names=['labels', 'tweets'], header=None, skiprows=1)\n",
    "df = df.head(500_000)\n",
    "\n",
    "# Extract features and labels\n",
    "X_train = df['tweets']\n",
    "y_train = df['labels']\n",
    "\n",
    "X_train = X_train.apply(clean_tweet)"
   ]
  },
  {
   "cell_type": "code",
   "execution_count": 96,
   "id": "d730cec9",
   "metadata": {},
   "outputs": [],
   "source": [
    "vectorizer_log_reg = TfidfVectorizer(ngram_range=(1, 5), min_df = 3)\n",
    "x_train = vectorizer_log_reg.fit_transform(X_train)\n",
    "x_sparse_train = csr_matrix(x_train)"
   ]
  },
  {
   "cell_type": "markdown",
   "id": "94d44024",
   "metadata": {},
   "source": [
    "### 6.2 Import Validation Data\n",
    "Load the external validation dataset and preprocess the tweets to align with the data used to train the model."
   ]
  },
  {
   "cell_type": "code",
   "execution_count": 97,
   "id": "7eb12974",
   "metadata": {},
   "outputs": [],
   "source": [
    "# Assuming the necessary functions and model are already defined\n",
    "df_validation = pd.read_csv('data_validation.csv', names=['tweets'], header=None, skiprows=1)\n",
    "df_validation = df_validation.head(100000)\n",
    "\n",
    "\n",
    "# Extract features and labels\n",
    "X = df_validation['tweets']\n",
    "X = X.apply(clean_tweet)"
   ]
  },
  {
   "cell_type": "markdown",
   "id": "0bc4f16b",
   "metadata": {},
   "source": [
    "### 6.3 Train Model\n",
    "Train a logistic regression model on the training data."
   ]
  },
  {
   "cell_type": "code",
   "execution_count": 98,
   "id": "dec4475c",
   "metadata": {},
   "outputs": [
    {
     "data": {
      "text/html": [
       "<style>#sk-container-id-4 {color: black;background-color: white;}#sk-container-id-4 pre{padding: 0;}#sk-container-id-4 div.sk-toggleable {background-color: white;}#sk-container-id-4 label.sk-toggleable__label {cursor: pointer;display: block;width: 100%;margin-bottom: 0;padding: 0.3em;box-sizing: border-box;text-align: center;}#sk-container-id-4 label.sk-toggleable__label-arrow:before {content: \"▸\";float: left;margin-right: 0.25em;color: #696969;}#sk-container-id-4 label.sk-toggleable__label-arrow:hover:before {color: black;}#sk-container-id-4 div.sk-estimator:hover label.sk-toggleable__label-arrow:before {color: black;}#sk-container-id-4 div.sk-toggleable__content {max-height: 0;max-width: 0;overflow: hidden;text-align: left;background-color: #f0f8ff;}#sk-container-id-4 div.sk-toggleable__content pre {margin: 0.2em;color: black;border-radius: 0.25em;background-color: #f0f8ff;}#sk-container-id-4 input.sk-toggleable__control:checked~div.sk-toggleable__content {max-height: 200px;max-width: 100%;overflow: auto;}#sk-container-id-4 input.sk-toggleable__control:checked~label.sk-toggleable__label-arrow:before {content: \"▾\";}#sk-container-id-4 div.sk-estimator input.sk-toggleable__control:checked~label.sk-toggleable__label {background-color: #d4ebff;}#sk-container-id-4 div.sk-label input.sk-toggleable__control:checked~label.sk-toggleable__label {background-color: #d4ebff;}#sk-container-id-4 input.sk-hidden--visually {border: 0;clip: rect(1px 1px 1px 1px);clip: rect(1px, 1px, 1px, 1px);height: 1px;margin: -1px;overflow: hidden;padding: 0;position: absolute;width: 1px;}#sk-container-id-4 div.sk-estimator {font-family: monospace;background-color: #f0f8ff;border: 1px dotted black;border-radius: 0.25em;box-sizing: border-box;margin-bottom: 0.5em;}#sk-container-id-4 div.sk-estimator:hover {background-color: #d4ebff;}#sk-container-id-4 div.sk-parallel-item::after {content: \"\";width: 100%;border-bottom: 1px solid gray;flex-grow: 1;}#sk-container-id-4 div.sk-label:hover label.sk-toggleable__label {background-color: #d4ebff;}#sk-container-id-4 div.sk-serial::before {content: \"\";position: absolute;border-left: 1px solid gray;box-sizing: border-box;top: 0;bottom: 0;left: 50%;z-index: 0;}#sk-container-id-4 div.sk-serial {display: flex;flex-direction: column;align-items: center;background-color: white;padding-right: 0.2em;padding-left: 0.2em;position: relative;}#sk-container-id-4 div.sk-item {position: relative;z-index: 1;}#sk-container-id-4 div.sk-parallel {display: flex;align-items: stretch;justify-content: center;background-color: white;position: relative;}#sk-container-id-4 div.sk-item::before, #sk-container-id-4 div.sk-parallel-item::before {content: \"\";position: absolute;border-left: 1px solid gray;box-sizing: border-box;top: 0;bottom: 0;left: 50%;z-index: -1;}#sk-container-id-4 div.sk-parallel-item {display: flex;flex-direction: column;z-index: 1;position: relative;background-color: white;}#sk-container-id-4 div.sk-parallel-item:first-child::after {align-self: flex-end;width: 50%;}#sk-container-id-4 div.sk-parallel-item:last-child::after {align-self: flex-start;width: 50%;}#sk-container-id-4 div.sk-parallel-item:only-child::after {width: 0;}#sk-container-id-4 div.sk-dashed-wrapped {border: 1px dashed gray;margin: 0 0.4em 0.5em 0.4em;box-sizing: border-box;padding-bottom: 0.4em;background-color: white;}#sk-container-id-4 div.sk-label label {font-family: monospace;font-weight: bold;display: inline-block;line-height: 1.2em;}#sk-container-id-4 div.sk-label-container {text-align: center;}#sk-container-id-4 div.sk-container {/* jupyter's `normalize.less` sets `[hidden] { display: none; }` but bootstrap.min.css set `[hidden] { display: none !important; }` so we also need the `!important` here to be able to override the default hidden behavior on the sphinx rendered scikit-learn.org. See: https://github.com/scikit-learn/scikit-learn/issues/21755 */display: inline-block !important;position: relative;}#sk-container-id-4 div.sk-text-repr-fallback {display: none;}</style><div id=\"sk-container-id-4\" class=\"sk-top-container\"><div class=\"sk-text-repr-fallback\"><pre>LogisticRegression(max_iter=1000)</pre><b>In a Jupyter environment, please rerun this cell to show the HTML representation or trust the notebook. <br />On GitHub, the HTML representation is unable to render, please try loading this page with nbviewer.org.</b></div><div class=\"sk-container\" hidden><div class=\"sk-item\"><div class=\"sk-estimator sk-toggleable\"><input class=\"sk-toggleable__control sk-hidden--visually\" id=\"sk-estimator-id-4\" type=\"checkbox\" checked><label for=\"sk-estimator-id-4\" class=\"sk-toggleable__label sk-toggleable__label-arrow\">LogisticRegression</label><div class=\"sk-toggleable__content\"><pre>LogisticRegression(max_iter=1000)</pre></div></div></div></div></div>"
      ],
      "text/plain": [
       "LogisticRegression(max_iter=1000)"
      ]
     },
     "execution_count": 98,
     "metadata": {},
     "output_type": "execute_result"
    }
   ],
   "source": [
    "model_log_reg = LogisticRegression(max_iter=1000)\n",
    "model_log_reg.fit(x_sparse_train, y_train)"
   ]
  },
  {
   "cell_type": "markdown",
   "id": "84181f53",
   "metadata": {},
   "source": [
    "### 6.4 Transform Validation Data\n",
    "Transform the cleaned tweets from the validation set into the numerical format expected by the logistic regression model."
   ]
  },
  {
   "cell_type": "code",
   "execution_count": 99,
   "id": "5a24114f",
   "metadata": {},
   "outputs": [],
   "source": [
    "x_validation_log_reg = vectorizer_log_reg.transform(X)\n",
    "x_sparse_log_reg = csr_matrix(x_validation_log_reg)"
   ]
  },
  {
   "cell_type": "code",
   "execution_count": 100,
   "id": "74bf2e16",
   "metadata": {},
   "outputs": [],
   "source": [
    "x_validation_naive_bayes = vectorizer_naive_bayes.transform(X)"
   ]
  },
  {
   "cell_type": "code",
   "execution_count": 101,
   "id": "aef1f285",
   "metadata": {},
   "outputs": [],
   "source": [
    "x_validation_svm = vectorizer_svm.transform(X)\n",
    "x_validation_svm_dense = x_validation_svm.toarray()"
   ]
  },
  {
   "cell_type": "markdown",
   "id": "0c4a5a3e",
   "metadata": {},
   "source": [
    "### 6.5 Predict Data\n",
    "Predict the sentiment labels using the logistic regression model on the transformed validation data"
   ]
  },
  {
   "cell_type": "code",
   "execution_count": 102,
   "id": "eecd3968",
   "metadata": {},
   "outputs": [],
   "source": [
    "y_pred_log_reg = model_log_reg.predict(x_sparse_log_reg)\n",
    "y_pred_naive_bayes = model_naive_bayes.predict(x_validation_naive_bayes)\n",
    "y_pred_svm = model_svm.predict(x_validation_svm_dense)\n",
    "\n",
    "np.save('solution_logistic_regression.npy', y_pred_log_reg)\n",
    "np.save('solution_naive_bayes.npy', y_pred_naive_bayes)\n",
    "np.save('solution_svm.npy', y_pred_svm)\n",
    "\n",
    "# To verify, you can load the file and print the contents\n",
    "labels_log_reg = np.load('solution_logistic_regression.npy')\n",
    "labels_naive_bayes = np.load('solution_naive_bayes.npy')\n",
    "labels_svm = np.load('solution_svm.npy')"
   ]
  }
 ],
 "metadata": {
  "kernelspec": {
   "display_name": "Python 3 (ipykernel)",
   "language": "python",
   "name": "python3"
  },
  "language_info": {
   "codemirror_mode": {
    "name": "ipython",
    "version": 3
   },
   "file_extension": ".py",
   "mimetype": "text/x-python",
   "name": "python",
   "nbconvert_exporter": "python",
   "pygments_lexer": "ipython3",
   "version": "3.11.6"
  }
 },
 "nbformat": 4,
 "nbformat_minor": 5
}
